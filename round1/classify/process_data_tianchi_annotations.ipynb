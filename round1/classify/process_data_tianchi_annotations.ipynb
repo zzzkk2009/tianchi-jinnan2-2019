{
 "cells": [
  {
   "cell_type": "code",
   "execution_count": 4,
   "metadata": {
    "collapsed": true
   },
   "outputs": [],
   "source": [
    "from fastai.vision import *\n",
    "import os \n",
    "import cv2\n",
    "import json"
   ]
  },
  {
   "cell_type": "code",
   "execution_count": null,
   "metadata": {
    "collapsed": true
   },
   "outputs": [],
   "source": [
    "path = Path('./')\n",
    "path.ls()"
   ]
  },
  {
   "cell_type": "code",
   "execution_count": null,
   "metadata": {
    "collapsed": true
   },
   "outputs": [],
   "source": [
    "src_data_path='../data/jinnan2_round1_train_20190305/'\n",
    "annotations_images_path='../data/annotations_images/'\n"
   ]
  },
  {
   "cell_type": "code",
   "execution_count": null,
   "metadata": {
    "collapsed": true
   },
   "outputs": [],
   "source": [
    "if not os.path.exists('../data/train/'):\n",
    "        os.makedirs('../data/train/')\n",
    "        \n",
    "if not os.path.exists('../data/train/normal/'):\n",
    "        os.makedirs('../data/train/normal/')\n",
    "        \n",
    "if not os.path.exists('../data/train/restricted/'):\n",
    "        os.makedirs('../data/train/restricted/')\n",
    "        \n",
    "if not os.path.exists(annotations_images_path):\n",
    "        os.makedirs(annotations_images_path)\n",
    "        "
   ]
  },
  {
   "cell_type": "code",
   "execution_count": null,
   "metadata": {
    "collapsed": true
   },
   "outputs": [],
   "source": [
    "with open(src_data_path + 'train_no_poly.json', 'r') as f:\n",
    "    load_dict = json.load(f)\n",
    "   \n",
    "\n",
    "info = load_dict['info']\n",
    "licenses = load_dict['licenses']\n",
    "categories = load_dict['categories']\n",
    "images = load_dict['images']\n",
    "annotations = load_dict['annotations']\n",
    "\n",
    "print(info)"
   ]
  },
  {
   "cell_type": "code",
   "execution_count": null,
   "metadata": {
    "collapsed": true
   },
   "outputs": [],
   "source": [
    "imageid2name = {}\n",
    "for i, image in enumerate(images):\n",
    "    imageid2name[image['id']] = image['file_name']"
   ]
  },
  {
   "cell_type": "code",
   "execution_count": null,
   "metadata": {
    "collapsed": true
   },
   "outputs": [],
   "source": [
    "def overlay_class_box(image, annotations):\n",
    "        for i, annotation in enumerate(annotations):\n",
    "            category_id = annotation['category_id']\n",
    "            box = annotation['bbox']\n",
    "            minAreaRect = annotation['minAreaRect']\n",
    "        \n",
    "            xmin, ymin = box[:2]\n",
    "            xmax, ymax = box[0]+box[2], box[1]+box[3]\n",
    "            cv2.putText(\n",
    "                image, str(category_id), (xmin, ymin), cv2.FONT_HERSHEY_SIMPLEX, .5, (0, 0, 125), 2 \n",
    "            )#(B,G,R)\n",
    "        \n",
    "            image = cv2.rectangle(\n",
    "                image, (xmin, ymin), (xmax, ymax), (0,0,255), 2 \n",
    "            )\n",
    "\n",
    "        return image"
   ]
  },
  {
   "cell_type": "code",
   "execution_count": null,
   "metadata": {
    "collapsed": true
   },
   "outputs": [],
   "source": [
    "img_dict = {}\n",
    "for i, anno in enumerate(annotations):\n",
    "    image_id = anno['image_id']\n",
    "    item = {\n",
    "            'category_id': anno['category_id'],\n",
    "            'bbox': anno['bbox'],\n",
    "            'minAreaRect': anno['minAreaRect']\n",
    "        }\n",
    "    \n",
    "    if image_id in img_dict.keys():\n",
    "        img_dict[image_id].append(item)\n",
    "    else:\n",
    "        img_dict[image_id] = [item]"
   ]
  },
  {
   "cell_type": "markdown",
   "metadata": {},
   "source": [
    "创建在图片上画上标签矩形的数据集"
   ]
  },
  {
   "cell_type": "code",
   "execution_count": null,
   "metadata": {
    "collapsed": true
   },
   "outputs": [],
   "source": []
  },
  {
   "cell_type": "code",
   "execution_count": null,
   "metadata": {
    "collapsed": true
   },
   "outputs": [],
   "source": [
    "for i, image_id in enumerate(img_dict.keys()):\n",
    "    file_name = imageid2name[image_id]\n",
    "    img = cv2.imread(src_data_path + 'restricted/' + file_name)\n",
    "    img = overlay_class_box(img, img_dict[image_id])\n",
    "    if i < 2:\n",
    "        plt.imshow(img)\n",
    "        plt.show()\n",
    "    \n",
    "    cv2.imwrite(annotations_images_path  + file_name, img)\n",
    "    #print('save {} img to restricted_with_annotations dir'.format(file_name))\n",
    "    \n",
    "print('process success!!!!')\n",
    "print(i)"
   ]
  },
  {
   "cell_type": "code",
   "execution_count": 5,
   "metadata": {
    "collapsed": true
   },
   "outputs": [],
   "source": [
    "def copy_files(src_path, dest_path, flag_str):\n",
    "    files = os.listdir(src_path)\n",
    "    print('test img nums={}'.format(len(files)))\n",
    "    for file in files:                \n",
    "       \n",
    "        \n",
    "        full_src_path = src_path+file;\n",
    "        full_dest_path=dest_path+flag_str+file\n",
    "        \n",
    "               \n",
    "        cmd = 'cp '+full_src_path+' '+full_dest_path+' -rf'\n",
    "        tmp = os.popen(cmd).readlines()"
   ]
  },
  {
   "cell_type": "code",
   "execution_count": null,
   "metadata": {
    "collapsed": true
   },
   "outputs": [],
   "source": [
    "copy_files(annotations_images_path,'../data/train/restricted/','annotations_' )"
   ]
  },
  {
   "cell_type": "code",
   "execution_count": null,
   "metadata": {
    "collapsed": true
   },
   "outputs": [],
   "source": [
    "\n",
    "cmd = 'cp '+src_data_path+'restricted/*'+' '+'../data/train/restricted/'+' -rf'\n",
    "tmp = os.popen(cmd).readlines()\n",
    "    \n",
    "cmd = 'cp '+src_data_path+'normal/*'+' '+'../data/train/normal/'+' -rf'\n",
    "tmp = os.popen(cmd).readlines()  \n",
    "\n"
   ]
  },
  {
   "cell_type": "code",
   "execution_count": null,
   "metadata": {
    "collapsed": true
   },
   "outputs": [],
   "source": [
    "cmd = 'rm '+annotations_images_path +' -rf'\n",
    "tmp = os.popen(cmd).readlines() \n",
    "    "
   ]
  },
  {
   "cell_type": "code",
   "execution_count": 6,
   "metadata": {},
   "outputs": [
    {
     "name": "stdout",
     "output_type": "stream",
     "text": [
      "test img nums=1953\n"
     ]
    }
   ],
   "source": [
    "\n",
    "#copy_files('../data/train/restricted-back/','../data/train/restricted/','copy_' )"
   ]
  },
  {
   "cell_type": "code",
   "execution_count": null,
   "metadata": {
    "collapsed": true
   },
   "outputs": [],
   "source": []
  }
 ],
 "metadata": {
  "kernelspec": {
   "display_name": "Python [default]",
   "language": "python",
   "name": "python3"
  },
  "language_info": {
   "codemirror_mode": {
    "name": "ipython",
    "version": 3
   },
   "file_extension": ".py",
   "mimetype": "text/x-python",
   "name": "python",
   "nbconvert_exporter": "python",
   "pygments_lexer": "ipython3",
   "version": "3.6.8"
  }
 },
 "nbformat": 4,
 "nbformat_minor": 2
}
