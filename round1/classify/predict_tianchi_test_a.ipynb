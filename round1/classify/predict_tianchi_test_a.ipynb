{
 "cells": [
  {
   "cell_type": "code",
   "execution_count": 1,
   "metadata": {
    "collapsed": true
   },
   "outputs": [],
   "source": [
    "from fastai.vision import *\n",
    "import os "
   ]
  },
  {
   "cell_type": "code",
   "execution_count": 2,
   "metadata": {},
   "outputs": [
    {
     "name": "stdout",
     "output_type": "stream",
     "text": [
      "True\n"
     ]
    }
   ],
   "source": [
    "import torch\n",
    "import torchvision\n",
    "print(torch.cuda.is_available())"
   ]
  },
  {
   "cell_type": "code",
   "execution_count": 3,
   "metadata": {},
   "outputs": [
    {
     "data": {
      "text/plain": [
       "[PosixPath('data/train/normal'),\n",
       " PosixPath('data/train/restricted'),\n",
       " PosixPath('data/train/224best_add_testb_densenet121.pkl'),\n",
       " PosixPath('data/train/models'),\n",
       " PosixPath('data/train/288best_add_testb_vgg16.pkl')]"
      ]
     },
     "execution_count": 3,
     "metadata": {},
     "output_type": "execute_result"
    }
   ],
   "source": [
    "path = Path('../data/train/')\n",
    "path.ls()"
   ]
  },
  {
   "cell_type": "code",
   "execution_count": 4,
   "metadata": {
    "collapsed": true
   },
   "outputs": [],
   "source": [
    "learn = load_learner(path,'228_best_100.pkl')"
   ]
  },
  {
   "cell_type": "code",
   "execution_count": null,
   "metadata": {
    "collapsed": true
   },
   "outputs": [],
   "source": []
  },
  {
   "cell_type": "code",
   "execution_count": null,
   "metadata": {
    "collapsed": true
   },
   "outputs": [],
   "source": []
  },
  {
   "cell_type": "code",
   "execution_count": 5,
   "metadata": {
    "collapsed": true
   },
   "outputs": [],
   "source": [
    "#img=img = open_image('/home/lian/projects/fastai/data/tianchi/train/normal/190104_095706_00150053.jpg')"
   ]
  },
  {
   "cell_type": "code",
   "execution_count": 6,
   "metadata": {
    "collapsed": true
   },
   "outputs": [],
   "source": [
    "#pred_class,pred_idx,outputs = learn.predict(img)"
   ]
  },
  {
   "cell_type": "code",
   "execution_count": 7,
   "metadata": {
    "collapsed": true
   },
   "outputs": [],
   "source": [
    "#outputs.numpy()[1]"
   ]
  },
  {
   "cell_type": "code",
   "execution_count": 8,
   "metadata": {},
   "outputs": [
    {
     "name": "stdout",
     "output_type": "stream",
     "text": [
      "test img nums=3398\n",
      "617.jpg 0.46283564\n",
      "827.jpg 0.49502438\n"
     ]
    }
   ],
   "source": [
    "i = 0;\n",
    "file_path = '../data/jinnan2_round1_test_a_20190306/'\n",
    "files = os.listdir(file_path)\n",
    "print('test img nums={}'.format(len(files)))\n",
    "for file in files:                \n",
    "        img = open_image(file_path+file)\n",
    "        pred_class,pred_idx,outputs = learn.predict(img)\n",
    "        \n",
    "        if outputs.numpy()[1]>0.4 and outputs.numpy()[1]<=0.5:\n",
    "            print(file,outputs.numpy()[1])\n",
    "               \n",
    "        result_file = './288tianchi_result_testa.txt'\n",
    "        with open(result_file, 'a') as f:\n",
    "            f.write(file)\n",
    "            f.write('  ')\n",
    "            if outputs.numpy()[1]>0.5:\n",
    "                f.write('1')\n",
    "            else:\n",
    "                f.write('0')\n",
    "           \n",
    "            f.write('\\n')\n",
    "        f.close()\n",
    "        #i+=1;\n",
    "        #if i>1:\n",
    "        #    break;"
   ]
  },
  {
   "cell_type": "code",
   "execution_count": 9,
   "metadata": {},
   "outputs": [
    {
     "data": {
      "text/plain": [
       "0.0126366755"
      ]
     },
     "execution_count": 9,
     "metadata": {},
     "output_type": "execute_result"
    }
   ],
   "source": [
    "outputs.numpy()[1]\n"
   ]
  },
  {
   "cell_type": "code",
   "execution_count": null,
   "metadata": {
    "collapsed": true
   },
   "outputs": [],
   "source": []
  },
  {
   "cell_type": "code",
   "execution_count": null,
   "metadata": {
    "collapsed": true
   },
   "outputs": [],
   "source": []
  }
 ],
 "metadata": {
  "kernelspec": {
   "display_name": "Python [default]",
   "language": "python",
   "name": "python3"
  },
  "language_info": {
   "codemirror_mode": {
    "name": "ipython",
    "version": 3
   },
   "file_extension": ".py",
   "mimetype": "text/x-python",
   "name": "python",
   "nbconvert_exporter": "python",
   "pygments_lexer": "ipython3",
   "version": "3.6.8"
  }
 },
 "nbformat": 4,
 "nbformat_minor": 2
}
